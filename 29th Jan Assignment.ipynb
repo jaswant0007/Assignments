{
 "cells": [
  {
   "cell_type": "code",
   "execution_count": 4,
   "id": "7a730e64-f935-4c5c-a1c0-f77fff17f6a7",
   "metadata": {},
   "outputs": [],
   "source": [
    "#Ans-1 Guido van Rossum"
   ]
  },
  {
   "cell_type": "code",
   "execution_count": 3,
   "id": "97e4f9e5-7e27-477d-92e5-2fe0de34157d",
   "metadata": {},
   "outputs": [],
   "source": [
    "#Ans-2 Python is a programming language, basically a very high-level and a general-purpose language.\n",
    "#The design is such that it lays emphasis on code readability with the use of significant indentation.\n",
    "#The language used in python helps construct an object-oriented approach with the aim to help the programmers write clear and logical codes for small and large-scale products#"
   ]
  },
  {
   "cell_type": "code",
   "execution_count": 9,
   "id": "6f6f0921-f40a-4ffa-a219-53e5398d9fc5",
   "metadata": {},
   "outputs": [],
   "source": [
    "#Ans-3 Yes, Python is a case-sensitive language, i.e., it treats uppercase and lowercase characters differently.\n",
    "#This applies to identifiers too. You must avoid using the same name with different cases while naming identifiers"
   ]
  },
  {
   "cell_type": "code",
   "execution_count": 17,
   "id": "f6fbcdd7-9a34-46d4-903c-c67297e5fecf",
   "metadata": {},
   "outputs": [],
   "source": [
    "#Ans-4 correct file extension for Python files is .py"
   ]
  },
  {
   "cell_type": "code",
   "execution_count": 19,
   "id": "4e35a311-98de-4f6b-aea6-c2895f9ed177",
   "metadata": {},
   "outputs": [],
   "source": [
    "#Ans-5 Python is both compiled as well as an interpreted language. This means when we run a python code, it is first compiled and then interpreted line by line.\n",
    "#The compilation part is mostly hidden from the user. While running the code, Python generates a byte code internally, this byte code is then converted using a python virtual machine (p.v.m) to generate the output."
   ]
  },
  {
   "cell_type": "code",
   "execution_count": 1,
   "id": "2c2d974f-f6d0-4b50-8908-07ef0aa31406",
   "metadata": {},
   "outputs": [],
   "source": [
    "#Ans-6 Indentation is used to define a block of code in python.\n",
    "#Braces {} are used to define a block of code in most programming languages, like C, C++, and Java. But this indentation makes python unique among all programming languages."
   ]
  },
  {
   "cell_type": "code",
   "execution_count": 4,
   "id": "b37fe37c-874e-47ba-bd28-4e583a070dd9",
   "metadata": {},
   "outputs": [],
   "source": [
    "#Ans-7 We can write a single-line comment by adding a single # character before any statement or line of code."
   ]
  },
  {
   "cell_type": "code",
   "execution_count": 14,
   "id": "31f43626-d6da-4c65-b77f-4a7cbd134cff",
   "metadata": {},
   "outputs": [
    {
     "name": "stdout",
     "output_type": "stream",
     "text": [
      "3.10.8 | packaged by conda-forge | (main, Nov 22 2022, 08:26:04) [GCC 10.4.0]\n"
     ]
    }
   ],
   "source": [
    "#Ans-8 import sys\n",
    "print (sys.version)"
   ]
  },
  {
   "cell_type": "code",
   "execution_count": 15,
   "id": "2fe0f232-56e8-4374-91f6-d24a81785cc8",
   "metadata": {},
   "outputs": [],
   "source": [
    "#Ans-9 Python supports to make anonymous functions which are not bound to a name(@ runtime).\n",
    "#It uses a construct called \"lambda\"."
   ]
  },
  {
   "cell_type": "code",
   "execution_count": 16,
   "id": "b80d85ea-29fe-45cc-8e37-2a2b18373361",
   "metadata": {},
   "outputs": [],
   "source": [
    "#Ans-10 Pipe is a module in Python that easily connects the output from one method with the output from another method. It is a library that helps in writing cleaner code."
   ]
  },
  {
   "cell_type": "code",
   "execution_count": 20,
   "id": "9fae2a11-e390-4057-85cd-487b502dce45",
   "metadata": {},
   "outputs": [
    {
     "data": {
      "text/plain": [
       "'int()\\nlen()\\nlist()\\nset()\\nstr()'"
      ]
     },
     "execution_count": 20,
     "metadata": {},
     "output_type": "execute_result"
    }
   ],
   "source": [
    "#Ans-11 Python has a set of built-in functions.\n",
    "'''int()\n",
    "len()\n",
    "list()\n",
    "set()\n",
    "str()'''"
   ]
  },
  {
   "cell_type": "code",
   "execution_count": null,
   "id": "c3a976a3-1a0f-49cc-b29c-611e9180f787",
   "metadata": {},
   "outputs": [],
   "source": [
    "#Ans-12 identifier can have a maximum length of 79 characters in Python"
   ]
  },
  {
   "cell_type": "code",
   "execution_count": 21,
   "id": "9892db48-41dc-4b11-a174-ca1ec7218e21",
   "metadata": {},
   "outputs": [],
   "source": [
    "#Ans-13 Python is a high-level, interpreted, and general-purpose dynamic programming language that focuses on code readability\n",
    "#Python is a powerful, flexible, and easy-to-use language"
   ]
  },
  {
   "cell_type": "code",
   "execution_count": 23,
   "id": "b59bd54b-31b2-4199-9b4c-6c3c0abcdae5",
   "metadata": {},
   "outputs": [],
   "source": [
    "#Ans-14 memory is managed by the Python manager which determines where to put the application data in the memory. So, we must have the knowledge of Python memory manager to write efficient code and maintainable code."
   ]
  },
  {
   "cell_type": "code",
   "execution_count": 26,
   "id": "f48a9a24-93ad-4958-8f01-4a107ebff865",
   "metadata": {},
   "outputs": [
    {
     "data": {
      "text/plain": [
       "\"Open Explorer.\\nRight-click 'Computer' in the Navigation Tree Panel on the left.\\nSelect 'Properties' at the bottom of the Context Menu.\\nSelect 'Advanced system settings'\\nClick 'Environment Variables...' in the Advanced Tab\\nUnder 'System Variables':\\n\\nAdd\\n\\nPY_HOME\\n\\nC:\\\\Python27\\nPYTHONPATH\\n\\n%PY_HOME%\\\\Lib;%PY_HOME%\\\\DLLs;%PY_HOME%\\\\Lib\\\\lib-tk;C:\\x07nother-library\\nAppend\\n\\npath\\n\\n%PY_HOME%;%PY_HOME%\\\\Scripts\\\\ \""
      ]
     },
     "execution_count": 26,
     "metadata": {},
     "output_type": "execute_result"
    }
   ],
   "source": [
    "#Ans-15 Adding Python and PythonPath to the Windows environment:\n",
    "'''Open Explorer.\n",
    "Right-click 'Computer' in the Navigation Tree Panel on the left.\n",
    "Select 'Properties' at the bottom of the Context Menu.\n",
    "Select 'Advanced system settings'\n",
    "Click 'Environment Variables...' in the Advanced Tab\n",
    "Under 'System Variables':\n",
    "\n",
    "Add\n",
    "\n",
    "PY_HOME\n",
    "\n",
    "C:\\Python27\n",
    "PYTHONPATH\n",
    "\n",
    "%PY_HOME%\\Lib;%PY_HOME%\\DLLs;%PY_HOME%\\Lib\\lib-tk;C:\\another-library\n",
    "Append\n",
    "\n",
    "path\n",
    "\n",
    "%PY_HOME%;%PY_HOME%\\Scripts\\ '''"
   ]
  },
  {
   "cell_type": "code",
   "execution_count": 27,
   "id": "77f40641-2c70-4686-8129-4ba3746c53f6",
   "metadata": {},
   "outputs": [],
   "source": [
    "#Ans-16 Yes! In the case of Python, indentation is not for styling purpose. It is rather a requirement for your code to get compiled and executed. Thus it is mandatory."
   ]
  }
 ],
 "metadata": {
  "kernelspec": {
   "display_name": "Python 3 (ipykernel)",
   "language": "python",
   "name": "python3"
  },
  "language_info": {
   "codemirror_mode": {
    "name": "ipython",
    "version": 3
   },
   "file_extension": ".py",
   "mimetype": "text/x-python",
   "name": "python",
   "nbconvert_exporter": "python",
   "pygments_lexer": "ipython3",
   "version": "3.10.8"
  }
 },
 "nbformat": 4,
 "nbformat_minor": 5
}
